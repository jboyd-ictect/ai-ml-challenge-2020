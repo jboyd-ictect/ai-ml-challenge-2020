{
  "nbformat": 4,
  "nbformat_minor": 0,
  "metadata": {
    "colab": {
      "name": "GSA EULA- key phrases.ipynb",
      "provenance": [],
      "collapsed_sections": []
    },
    "kernelspec": {
      "name": "python3",
      "display_name": "Python 3"
    }
  },
  "cells": [
    {
      "cell_type": "code",
      "metadata": {
        "id": "LCPe7U6xWj4F",
        "colab_type": "code",
        "colab": {}
      },
      "source": [
        "import pandas as pd\n",
        "import numpy as np\n",
        "\n",
        "from sklearn.feature_extraction.text import CountVectorizer\n",
        "\n",
        "from sklearn.model_selection import train_test_split\n",
        "\n",
        "from sklearn.svm import SVC\n",
        "from sklearn.tree import DecisionTreeClassifier\n",
        "from sklearn.linear_model import LogisticRegression\n",
        "from sklearn.ensemble import RandomForestClassifier\n",
        "\n",
        "from sklearn import tree\n",
        "from sklearn.metrics import confusion_matrix, classification_report\n",
        "from sklearn.metrics import precision_score, recall_score, accuracy_score, f1_score, roc_auc_score, brier_score_loss\n",
        "from sklearn.feature_selection import chi2\n",
        "import sklearn.metrics\n",
        "\n",
        "import xgboost as xgb\n",
        "import csv\n",
        "import matplotlib.pyplot as plt"
      ],
      "execution_count": null,
      "outputs": []
    },
    {
      "cell_type": "code",
      "metadata": {
        "id": "nXEcuAQiwphi",
        "colab_type": "code",
        "colab": {}
      },
      "source": [
        "raw_train = pd.read_csv(\"https://raw.githubusercontent.com/GSA/ai-ml-challenge-2020/master/data/AI_ML_Challenge_Training_Data_Set_1_v1.csv\")\n",
        "raw_test = pd.read_csv(\"https://raw.githubusercontent.com/GSA/ai-ml-challenge-2020/master/data/AI_ML_Challenge_Validation_Data_Set_v1.csv\")"
      ],
      "execution_count": null,
      "outputs": []
    },
    {
      "cell_type": "code",
      "metadata": {
        "id": "u_BFJOOPa4xj",
        "colab_type": "code",
        "colab": {}
      },
      "source": [
        "def remove_punc(row):\n",
        "  punc = '''!()-[]{};:'\"\\,<>./?@#$%^&*_~'''\n",
        "  for idx, phrase in enumerate(row):\n",
        "    for elem in phrase:\n",
        "      if elem in punc:  \n",
        "        phrase = phrase.replace(elem, \"\")\n",
        "        row[idx] = phrase\n",
        "  row = [w.lower() for w in row]\n",
        "  return row  "
      ],
      "execution_count": null,
      "outputs": []
    },
    {
      "cell_type": "code",
      "metadata": {
        "id": "-ArWaWQ5Wnsz",
        "colab_type": "code",
        "colab": {}
      },
      "source": [
        "def import_data(file):\n",
        "  data = {}\n",
        "  with open(file) as csv_file:\n",
        "    csv_reader = csv.reader(csv_file, delimiter=',')\n",
        "    first_row = True\n",
        "    for row in csv_reader:\n",
        "      if not first_row:\n",
        "        phrases = remove_punc(row[1:])\n",
        "        data[row[0]] = phrases\n",
        "      first_row = False\n",
        "  return data"
      ],
      "execution_count": null,
      "outputs": []
    },
    {
      "cell_type": "code",
      "metadata": {
        "id": "2alE0FfbveL9",
        "colab_type": "code",
        "colab": {}
      },
      "source": [
        "def get_classification(data, raw):\n",
        "  df = pd.DataFrame.from_dict(data, orient='index')\n",
        "  df['Clause ID'] = [int(idx) for idx in df.index]\n",
        "\n",
        "  df = df.merge(raw, on='Clause ID')\n",
        "  df.index = df[\"Clause ID\"]\n",
        "  df = df.drop(columns=[\"Clause Text\", \"Clause ID\"])\n",
        "  return df"
      ],
      "execution_count": null,
      "outputs": []
    },
    {
      "cell_type": "code",
      "metadata": {
        "id": "J-IigStIu85-",
        "colab_type": "code",
        "colab": {}
      },
      "source": [
        "train_dict = import_data(\"keyPhrase-master.csv\")\n",
        "test_dict = import_data(\"keyPhraseValidationSet.csv\")"
      ],
      "execution_count": null,
      "outputs": []
    },
    {
      "cell_type": "code",
      "metadata": {
        "id": "7ynL6Ce1r2Rw",
        "colab_type": "code",
        "colab": {}
      },
      "source": [
        "train = get_classification(train_dict, raw_train)\n",
        "test = get_classification(test_dict, raw_test)"
      ],
      "execution_count": null,
      "outputs": []
    },
    {
      "cell_type": "code",
      "metadata": {
        "id": "L5smx2Y7sa73",
        "colab_type": "code",
        "colab": {}
      },
      "source": [
        "X = train.loc[:, train.columns != 'Classification']\n",
        "y = train[\"Classification\"]"
      ],
      "execution_count": null,
      "outputs": []
    },
    {
      "cell_type": "code",
      "metadata": {
        "id": "awaOT6t7ejAv",
        "colab_type": "code",
        "colab": {}
      },
      "source": [
        "# bag of words approach\n",
        "corpus_str = []\n",
        "for clause in train_dict:\n",
        "  s = \" \"\n",
        "  corpus_str.append(s.join(train_dict[clause]))"
      ],
      "execution_count": null,
      "outputs": []
    },
    {
      "cell_type": "code",
      "metadata": {
        "id": "f1pjp2MvcNxP",
        "colab_type": "code",
        "colab": {}
      },
      "source": [
        "count_vect = CountVectorizer(stop_words='english')\n",
        "\n",
        "X = count_vect.fit_transform(corpus_str)"
      ],
      "execution_count": null,
      "outputs": []
    },
    {
      "cell_type": "code",
      "metadata": {
        "id": "tHJ-E3XuuFdn",
        "colab_type": "code",
        "colab": {}
      },
      "source": [
        "X_train, X_val, y_train, y_val = train_test_split(X, y, test_size=0.15, random_state=1337)"
      ],
      "execution_count": null,
      "outputs": []
    },
    {
      "cell_type": "code",
      "metadata": {
        "id": "5g3zIKFST237",
        "colab_type": "code",
        "colab": {}
      },
      "source": [
        "models = [SVC(kernel='linear',probability=True), \n",
        "          LogisticRegression(), RandomForestClassifier(), DecisionTreeClassifier(), xgb.XGBClassifier()]"
      ],
      "execution_count": null,
      "outputs": []
    },
    {
      "cell_type": "code",
      "metadata": {
        "id": "UDU5fGsZUQQQ",
        "colab_type": "code",
        "colab": {
          "base_uri": "https://localhost:8080/",
          "height": 173
        },
        "outputId": "753f2022-b937-42fe-9bb5-7826b1efdf6c"
      },
      "source": [
        "f1_scores = []\n",
        "brier_scores = []\n",
        "recall_scores = [] # ability to find all the positive samples\n",
        "false_pos = []\n",
        "false_neg = []\n",
        "from sklearn import metrics\n",
        "\n",
        "for model in models:\n",
        "  model.fit(X_train, y_train)\n",
        "  y_pred = model.predict_proba(X_val)[:, 1]\n",
        "\n",
        "  fpr, tpr, thresholds = metrics.roc_curve(y_val, y_pred)\n",
        "  optimal_idx = np.argmax(tpr - fpr)\n",
        "  optimal_threshold = thresholds[optimal_idx]\n",
        "  y_pred = (y_pred >= optimal_threshold).astype(int) \n",
        "\n",
        "  f1_scores.append(f1_score(y_val, y_pred, average=\"weighted\"))\n",
        "  brier_scores.append(brier_score_loss(y_val, y_pred))\n",
        "  recall_scores.append(recall_score(y_val, y_pred))\n",
        "  tn, fp, fn, tp = confusion_matrix(y_val, y_pred).ravel()\n",
        "  total = tn + fp + fn + tp\n",
        "  false_pos.append(fp/total)\n",
        "  false_neg.append(fn/total)"
      ],
      "execution_count": null,
      "outputs": [
        {
          "output_type": "stream",
          "text": [
            "/usr/local/lib/python3.6/dist-packages/sklearn/linear_model/_logistic.py:940: ConvergenceWarning: lbfgs failed to converge (status=1):\n",
            "STOP: TOTAL NO. of ITERATIONS REACHED LIMIT.\n",
            "\n",
            "Increase the number of iterations (max_iter) or scale the data as shown in:\n",
            "    https://scikit-learn.org/stable/modules/preprocessing.html\n",
            "Please also refer to the documentation for alternative solver options:\n",
            "    https://scikit-learn.org/stable/modules/linear_model.html#logistic-regression\n",
            "  extra_warning_msg=_LOGISTIC_SOLVER_CONVERGENCE_MSG)\n"
          ],
          "name": "stderr"
        }
      ]
    },
    {
      "cell_type": "code",
      "metadata": {
        "id": "x0iH1zSKUzop",
        "colab_type": "code",
        "colab": {
          "base_uri": "https://localhost:8080/",
          "height": 347
        },
        "outputId": "8efcc56b-b484-4ea7-904f-c03e695d2171"
      },
      "source": [
        "import matplotlib.pyplot as plt\n",
        "import matplotlib\n",
        "%matplotlib inline\n",
        "matplotlib.rcParams['figure.figsize'] = (15, 6)\n",
        "barWidth = 0.20\n",
        "\n",
        "xlabs = [\"Support Vector Machine\", \"Logistic Regression\", \"Random Forest\", \"Decision Tree\", \"Boosted Trees\"]\n",
        "\n",
        "# Set position of bar on X axis\n",
        "r1 = np.arange(len(f1_scores))\n",
        "r2 = [x + barWidth for x in r1]\n",
        "r3 = [x + barWidth for x in r2]\n",
        "r4 = [x + barWidth for x in r3]\n",
        " \n",
        "# Make the plot\n",
        "plt.bar(r1, f1_scores, width=barWidth, edgecolor='white', label='F1 Score')\n",
        "plt.bar(r2, brier_scores, width=barWidth, edgecolor='white', label='Brier Loss')\n",
        "plt.bar(r3, false_neg, width=barWidth, edgecolor='white', label='False Negative Rate')\n",
        "plt.bar(r4, false_pos, width=barWidth, edgecolor='white', label='False Positive Rate')\n",
        "\n",
        "# Add xticks on the middle of the group bars\n",
        "plt.xticks([r + 1.5*barWidth for r in range(len(f1_scores))], xlabs)\n",
        "plt.legend()\n",
        "plt.show()\n"
      ],
      "execution_count": null,
      "outputs": [
        {
          "output_type": "display_data",
          "data": {
            "image/png": "[encoded data removed]",
            "text/plain": [
              "<Figure size 1080x432 with 1 Axes>"
            ]
          },
          "metadata": {
            "tags": [],
            "needs_background": "light"
          }
        }
      ]
    },
    {
      "cell_type": "code",
      "metadata": {
        "id": "OgdOynXCIUN9",
        "colab_type": "code",
        "colab": {
          "base_uri": "https://localhost:8080/",
          "height": 238
        },
        "outputId": "64915403-eea8-4c37-9c49-2dd01b1bd906"
      },
      "source": [
        "# Random Forest\n",
        "model_rf = RandomForestClassifier(random_state=2020)\n",
        "model_rf.fit(X_train, y_train)\n",
        "\n",
        "y_pred = model_rf.predict_proba(X_val)[:, 1]\n",
        "\n",
        "fpr, tpr, thresholds = metrics.roc_curve(y_val, y_pred)\n",
        "optimal_idx = np.argmax(tpr - fpr)\n",
        "optimal_threshold = thresholds[optimal_idx]\n",
        "y_pred = (y_pred >= optimal_threshold).astype(int)\n",
        "\n",
        "print(classification_report(y_val, y_pred))\n",
        "print(confusion_matrix(y_val, y_pred))\n",
        "print(\"F1 = {}\".format(f1_score(y_val, y_pred, average=\"weighted\")))\n",
        "print(\"Brier score = {}\".format(brier_score_loss(y_val, y_pred)))"
      ],
      "execution_count": null,
      "outputs": [
        {
          "output_type": "stream",
          "text": [
            "              precision    recall  f1-score   support\n",
            "\n",
            "           0       0.93      0.82      0.87       950\n",
            "           1       0.50      0.74      0.60       230\n",
            "\n",
            "    accuracy                           0.81      1180\n",
            "   macro avg       0.72      0.78      0.74      1180\n",
            "weighted avg       0.85      0.81      0.82      1180\n",
            "\n",
            "[[782 168]\n",
            " [ 60 170]]\n",
            "F1 = 0.8193267123930021\n",
            "Brier score = 0.19322033898305085\n"
          ],
          "name": "stdout"
        }
      ]
    },
    {
      "cell_type": "code",
      "metadata": {
        "id": "NnFSs6_PO5FU",
        "colab_type": "code",
        "colab": {}
      },
      "source": [
        "num_features = 50\n",
        "importances = model_rf.feature_importances_\n",
        "std = np.std([tree.feature_importances_ for tree in model_rf.estimators_],\n",
        "             axis=0)\n",
        "indices = np.argsort(importances)[::-1][:num_features]"
      ],
      "execution_count": null,
      "outputs": []
    },
    {
      "cell_type": "code",
      "metadata": {
        "id": "nKk_BnTjQWQt",
        "colab_type": "code",
        "colab": {
          "base_uri": "https://localhost:8080/",
          "height": 54
        },
        "outputId": "ce2c3286-c7da-42a1-cdd0-1acf49ebe2f3"
      },
      "source": [
        "words = count_vect.get_feature_names()\n",
        "print([words[i] for i in indices])"
      ],
      "execution_count": null,
      "outputs": [
        {
          "output_type": "stream",
          "text": [
            "['terms', 'company', 'agreement', 'party', 'customer', 'fees', 'software', 'notice', 'services', 'state', 'damages', 'days', 'conditions', 'license', 'gsa', 'applicable', 'written', 'accordance', 'parties', 'rights', 'law', 'time', 'information', 'breach', 'use', 'right', 'payment', 'liability', 'date', 'licensee', 'expenses', 'entity', 'taxes', 'courts', 'subscription', 'end', 'order', 'contract', 'ordering', 'legal', 'event', 'activity', 'term', 'obligations', 'writing', 'section', 'termination', 'prior', 'policy', 'companys']\n"
          ],
          "name": "stdout"
        }
      ]
    },
    {
      "cell_type": "code",
      "metadata": {
        "id": "cgcfo8fc_O_2",
        "colab_type": "code",
        "colab": {}
      },
      "source": [
        ""
      ],
      "execution_count": null,
      "outputs": []
    }
  ]
}